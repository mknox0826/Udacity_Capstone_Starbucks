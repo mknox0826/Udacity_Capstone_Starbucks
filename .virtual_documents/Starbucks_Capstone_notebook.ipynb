








# import libraries
import pandas as pd
import numpy as np
import math
import json
import matplotlib.pyplot as plt
%matplotlib inline

from sklearn.preprocessing import MultiLabelBinarizer
import seaborn as sns
import matplotlib.pyplot as plt
import datetime

# read in the json files
portfolio = pd.read_json('data/portfolio.json', orient='records', lines=True)
profile = pd.read_json('data/profile.json', orient='records', lines=True)
transcript = pd.read_json('data/transcript.json', orient='records', lines=True)





# view data as it was read in
portfolio.head()


portfolio.shape





profile.head()


profile.shape





transcript.head()


transcript.shape











cleaned_portfolio = portfolio.copy()


cleaned_portfolio.head()


cleaned_portfolio.isnull().sum()





mlb = MultiLabelBinarizer()
binary_channels = pd.DataFrame(mlb.fit_transform(portfolio['channels']), columns=mlb.classes_, index=portfolio.index)
binary_channels





cleaned_portfolio = pd.concat([cleaned_portfolio, binary_channels], axis=1)
cleaned_portfolio.drop(['channels'], axis=1, inplace=True)
cleaned_portfolio





binary_offer_types = portfolio['offer_type'].str.get_dummies()
cleaned_portfolio = pd.concat([cleaned_portfolio, binary_offer_types], axis=1)
cleaned_portfolio


cleaned_portfolio.rename(columns={"id": "offer_id"}, inplace=True)
cleaned_portfolio





cleaned_portfolio['duration'] = cleaned_portfolio['duration'] * 24
cleaned_portfolio








cleaned_profile = profile.copy()
cleaned_profile.head()


cleaned_profile.isnull().sum()


(cleaned_profile['age'] > 115).sum()





cleaned_profile.drop(cleaned_profile[cleaned_profile.age > 100].index, inplace = True)
cleaned_profile.head()


binary_genders = cleaned_profile['gender'].str.get_dummies()
binary_genders.head()


cleaned_profile = pd.concat([cleaned_profile, binary_genders], axis=1)
cleaned_profile.head()





cleaned_profile['became_member_on'] = pd.to_datetime(cleaned_profile['became_member_on'], format='%Y%m%d')
cleaned_profile.head()





cleaned_profile['member_days'] = datetime.datetime.today().date() - pd.to_datetime(cleaned_profile['became_member_on']).dt.date
cleaned_profile['member_days'] = cleaned_profile['member_days'].dt.days
cleaned_profile.head()


cleaned_profile.rename(columns={"id": "customer_id"}, inplace=True)
cleaned_profile.head()


cleaned_profile.describe()








cleaned_transcript = transcript.copy()
cleaned_transcript.head()


cleaned_transcript.rename(columns={"person": "customer_id","time": "hours"}, inplace=True)
cleaned_transcript.head()





binary_events = cleaned_transcript['event'].str.get_dummies()
cleaned_transcript = pd.concat([cleaned_transcript, binary_events], axis=1)
cleaned_transcript.rename(columns={"offer completed": "offer_completed","offer received": "offer_received", "offer viewed": "offer_viewed"}, inplace=True)
cleaned_transcript.head()








cleaned_transcript.drop('transaction', axis=1, inplace= True)
transactions = cleaned_transcript.query("event == 'transaction'").copy()
transactions.drop(['offer_completed','offer_received','offer_viewed'], axis=1, inplace=True)
transactions.head()





transactions['amount'] = transactions['value'].apply(lambda x: list(x.values())[0])
transactions.drop(['value'], axis=1, inplace=True)
transactions.head()





offers = cleaned_transcript.query("event != 'transaction'").copy()
offers['offer_id'] = offers['value'].apply(lambda x: list(x.values())[0])
offers.drop(['value'], axis=1, inplace=True)
offers.head()





offers.head(2)


cleaned_profile.head(2)


cleaned_portfolio.head(2)


df_merge = offers.merge(cleaned_profile, left_on='customer_id', right_on='customer_id')
offers_df = df_merge.merge(cleaned_portfolio, left_on='offer_id', right_on='offer_id')
offers_df.set_index('offer_id', inplace=True)
offers_df.head(5)


offers_df.columns



