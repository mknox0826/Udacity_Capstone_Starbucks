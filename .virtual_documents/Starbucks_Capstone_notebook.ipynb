








# import libraries
import pandas as pd
import numpy as np
import math
import json
import matplotlib.pyplot as plt
%matplotlib inline

import datetime

# read in the json files
portfolio = pd.read_json('data/portfolio.json', orient='records', lines=True)
profile = pd.read_json('data/profile.json', orient='records', lines=True)
transcript = pd.read_json('data/transcript.json', orient='records', lines=True)





# view data as it was read in
portfolio.head()


portfolio.shape





profile.head()


profile.shape





transcript.head()


transcript.shape






